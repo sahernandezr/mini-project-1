{
 "cells": [
  {
   "cell_type": "code",
   "execution_count": 1,
   "metadata": {},
   "outputs": [],
   "source": [
    "import numpy as np"
   ]
  },
  {
   "cell_type": "code",
   "execution_count": 106,
   "metadata": {},
   "outputs": [],
   "source": [
    "class Board():\n",
    "    def __init__(self,rows,columns):\n",
    "        self.rows = rows\n",
    "        self.columns = columns\n",
    "        self.spaces = rows*columns\n",
    "        self.list_spaces = [' ' for i in range(self.spaces)]\n",
    "    \n",
    "    def create_board(self):\n",
    "        separator = '+'.join(('---',)*self.columns)\n",
    "        print(' '+' | '.join([self.list_spaces[0], self.list_spaces[1], self.list_spaces[2]]))\n",
    "        print(separator)\n",
    "        print(' '+' | '.join([self.list_spaces[3], self.list_spaces[4], self.list_spaces[5]]))\n",
    "        print(separator)\n",
    "        print(' '+' | '.join([self.list_spaces[6], self.list_spaces[7], self.list_spaces[8]]))\n",
    "        \n",
    "    def clean_board(self):\n",
    "        self.list_spaces = [' ' for i in range(self.spaces)]\n",
    "        return self.create_board()"
   ]
  },
  {
   "cell_type": "code",
   "execution_count": 107,
   "metadata": {},
   "outputs": [
    {
     "name": "stdout",
     "output_type": "stream",
     "text": [
      "   |   |  \n",
      "---+---+---\n",
      "   |   |  \n",
      "---+---+---\n",
      "   |   |  \n"
     ]
    }
   ],
   "source": [
    "board = Board(3,3)\n",
    "board.create_board()"
   ]
  },
  {
   "cell_type": "code",
   "execution_count": 108,
   "metadata": {},
   "outputs": [
    {
     "name": "stdout",
     "output_type": "stream",
     "text": [
      "   |   |  \n",
      "---+---+---\n",
      "   |   |  \n",
      "---+---+---\n",
      "   |   |  \n"
     ]
    }
   ],
   "source": [
    "board.list_spaces = []"
   ]
  },
  {
   "cell_type": "code",
   "execution_count": 28,
   "metadata": {},
   "outputs": [],
   "source": [
    "class Game():\n",
    "    def __init__(self):\n",
    "        self.have_winner: False\n",
    "        self.turns_played = 0\n",
    "        \n",
    "    def who_is_first(self, player, opponent):\n",
    "        selector_turn = np.random.randint(0,2)\n",
    "        if selector_turn == 0:\n",
    "            return f'{player} plays first!'\n",
    "        elif selector_turn == 1:\n",
    "            return f'{opponent} plays first!'\n",
    "    \n",
    "        "
   ]
  }
 ],
 "metadata": {
  "kernelspec": {
   "display_name": "Python 3",
   "language": "python",
   "name": "python3"
  },
  "language_info": {
   "codemirror_mode": {
    "name": "ipython",
    "version": 3
   },
   "file_extension": ".py",
   "mimetype": "text/x-python",
   "name": "python",
   "nbconvert_exporter": "python",
   "pygments_lexer": "ipython3",
   "version": "3.6.5"
  }
 },
 "nbformat": 4,
 "nbformat_minor": 2
}
