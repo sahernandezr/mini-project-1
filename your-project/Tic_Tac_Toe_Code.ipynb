{
 "cells": [
  {
   "cell_type": "code",
   "execution_count": null,
   "metadata": {},
   "outputs": [],
   "source": [
    "import numpy as np\n",
    "#from xml.etree.ElementTree import iselement\n"
   ]
  },
  {
   "cell_type": "code",
   "execution_count": 18,
   "metadata": {},
   "outputs": [],
   "source": [
    "#Global variables\n",
    "opponent_list = ['Tom', 'Garfield', 'Tigger', 'Kitty', 'Simba', 'Mufasa', 'Cheshire', 'Crookshanks', 'Jerry', 'Mickey', 'Minnie', 'Pinky', 'Stuart', 'Gus Gus', 'Bianca', 'Remy', 'Itchy', 'Scratchy', 'Speedy', 'Chuck', 'Wormtail']\n",
    "possible_wins = [['A1', 'A2', 'A3'],\n",
    "['A1', 'B1', 'C1'],\n",
    "['A1', 'B2', 'C3'],\n",
    "['A2', 'B2', 'C2'],\n",
    "['A3', 'B2', 'C1'],\n",
    "['A3', 'B3', 'C3'],\n",
    "['B1', 'B2', 'B3'],\n",
    "['C1', 'C2', 'C3']]\n",
    "available_spaces = ['A1','A2','A3','B1','B2','B3','C1','C2','C3']"
   ]
  },
  {
   "cell_type": "code",
   "execution_count": 22,
   "metadata": {},
   "outputs": [],
   "source": [
    "def player_name(): #This works\n",
    "    player_name = input('What is your name? ')\n",
    "    return player_name\n",
    "\n",
    "def opponent_name(x): #This works\n",
    "    opponent_selector = np.random.randint(0,len(opponent_list))\n",
    "    opponent_name = opponent_list[opponent_selector]\n",
    "    return f'Welcome {x}. Your opponent is {opponent_name}.'\n",
    "\n",
    "def start_game(): #This works\n",
    "    return opponent_name(player_name())\n",
    "\n",
    "def recurring_game(): #This works\n",
    "    opponent_selector = np.random.randint(0,len(opponent_list))\n",
    "    opponent_name = opponent_list[opponent_selector]\n",
    "    return f'Your opponent is {opponent_name}.'\n",
    "\n",
    "def choose_space(): #not-tested\n",
    "    choice = input('Chose a coordenate to put your mark')\n",
    "    return choice\n",
    "\n",
    "def check_space(choice): #not-tested\n",
    "    if choice in available_spaces:\n",
    "        return 'Great choice'\n",
    "    else:\n",
    "        return f'That space is already occupied. {choose_space()}'\n",
    "\n",
    "def turn(choice):\n",
    "    return "
   ]
  },
  {
   "cell_type": "code",
   "execution_count": 73,
   "metadata": {},
   "outputs": [
    {
     "name": "stdout",
     "output_type": "stream",
     "text": [
      "   |   |  \n",
      "---+---+---\n",
      "   |   |  \n",
      "---+---+---\n",
      "   |   |  \n"
     ]
    }
   ],
   "source": [
    "spaces = [' ',' ',' ',' ',' ',' ',' ',' ',' ',' ',' ']\n",
    "\n",
    "separator = '+'.join(('---',)*3)\n",
    "\n",
    "def show_board(board):\n",
    "    print(' ' + ' | '.join([board[0], board[1], board[2]]))\n",
    "    print(separator)\n",
    "    print(' ' + ' | '.join([board[3], board[4], board[5]]))\n",
    "    print(separator)\n",
    "    print(' ' + ' | '.join([board[6], board[7], board[8]]))\n",
    "\n",
    "show_board(spaces)"
   ]
  },
  {
   "cell_type": "code",
   "execution_count": 69,
   "metadata": {},
   "outputs": [
    {
     "name": "stdout",
     "output_type": "stream",
     "text": [
      " X |   |  \n",
      "---+---+---\n",
      "   |   |  \n",
      "---+---+---\n",
      "   |   |  \n"
     ]
    }
   ],
   "source": [
    "choice = 'X'\n",
    "\n",
    "spaces[0]= 'X'\n",
    "show_board(spaces)"
   ]
  },
  {
   "cell_type": "code",
   "execution_count": 71,
   "metadata": {},
   "outputs": [
    {
     "name": "stdout",
     "output_type": "stream",
     "text": [
      " X |   |  \n",
      "---+---+---\n",
      "   | O |  \n",
      "---+---+---\n",
      "   |   |  \n"
     ]
    }
   ],
   "source": [
    "opponent_choice = 'O'\n",
    "spaces[4] = opponent_choice\n",
    "show_board(spaces)"
   ]
  },
  {
   "cell_type": "code",
   "execution_count": 23,
   "metadata": {},
   "outputs": [
    {
     "ename": "ModuleNotFoundError",
     "evalue": "No module named 'tabulate'",
     "output_type": "error",
     "traceback": [
      "\u001b[1;31m---------------------------------------------------------------------------\u001b[0m",
      "\u001b[1;31mModuleNotFoundError\u001b[0m                       Traceback (most recent call last)",
      "\u001b[1;32m<ipython-input-23-5df088049afd>\u001b[0m in \u001b[0;36m<module>\u001b[1;34m()\u001b[0m\n\u001b[1;32m----> 1\u001b[1;33m \u001b[1;32mfrom\u001b[0m \u001b[0mtabulate\u001b[0m \u001b[1;32mimport\u001b[0m \u001b[0mtabulate\u001b[0m\u001b[1;33m\u001b[0m\u001b[0m\n\u001b[0m",
      "\u001b[1;31mModuleNotFoundError\u001b[0m: No module named 'tabulate'"
     ]
    }
   ],
   "source": [
    "from tabulate import tabulate"
   ]
  },
  {
   "cell_type": "code",
   "execution_count": 12,
   "metadata": {},
   "outputs": [
    {
     "name": "stdout",
     "output_type": "stream",
     "text": [
      "<function player_name at 0x000001D2E6E66598>\n"
     ]
    }
   ],
   "source": [
    "    1   2   3\n",
    "\n",
    "A\n",
    "B\n",
    "C\n"
   ]
  },
  {
   "cell_type": "code",
   "execution_count": 10,
   "metadata": {},
   "outputs": [
    {
     "data": {
      "text/plain": [
       "'Bianca'"
      ]
     },
     "execution_count": 10,
     "metadata": {},
     "output_type": "execute_result"
    }
   ],
   "source": [
    "opponent_list = ['Tom', 'Garfield', 'Tigger', 'Kitty', 'Simba', 'Mufasa', 'Cheshire', 'Crookshanks', 'Jerry', 'Mickey', 'Minnie', 'Pinky', 'Stuart', 'Gus Gus', 'Bianca', 'Remy', 'Itchy', 'Scratchy', 'Speedy', 'Chuck', 'Wormtail']\n",
    "opponent_selector = np.random.randint(0,len(opponent_list))\n",
    "opponent_name = opponent_list[opponent_selector]\n",
    "opponent_name"
   ]
  },
  {
   "cell_type": "code",
   "execution_count": 8,
   "metadata": {},
   "outputs": [
    {
     "ename": "ValueError",
     "evalue": "invalid literal for int() with base 10: 'b'",
     "output_type": "error",
     "traceback": [
      "\u001b[1;31m---------------------------------------------------------------------------\u001b[0m",
      "\u001b[1;31mValueError\u001b[0m                                Traceback (most recent call last)",
      "\u001b[1;32m<ipython-input-8-c14edf194b55>\u001b[0m in \u001b[0;36m<module>\u001b[1;34m()\u001b[0m\n\u001b[0;32m      1\u001b[0m \u001b[0mchoice\u001b[0m \u001b[1;33m=\u001b[0m \u001b[1;34m'b'\u001b[0m\u001b[1;33m\u001b[0m\u001b[0m\n\u001b[1;32m----> 2\u001b[1;33m \u001b[0mintchoice\u001b[0m \u001b[1;33m=\u001b[0m \u001b[0mint\u001b[0m\u001b[1;33m(\u001b[0m\u001b[0mchoice\u001b[0m\u001b[1;33m)\u001b[0m\u001b[1;33m\u001b[0m\u001b[0m\n\u001b[0m\u001b[0;32m      3\u001b[0m \u001b[0mtype\u001b[0m\u001b[1;33m(\u001b[0m\u001b[0mchoice\u001b[0m\u001b[1;33m)\u001b[0m\u001b[1;33m\u001b[0m\u001b[0m\n",
      "\u001b[1;31mValueError\u001b[0m: invalid literal for int() with base 10: 'b'"
     ]
    }
   ],
   "source": [
    "choice = 'b'\n",
    "intchoice = int(choice)\n",
    "type(choice)\n"
   ]
  }
 ],
 "metadata": {
  "kernelspec": {
   "display_name": "Python 3",
   "language": "python",
   "name": "python3"
  },
  "language_info": {
   "codemirror_mode": {
    "name": "ipython",
    "version": 3
   },
   "file_extension": ".py",
   "mimetype": "text/x-python",
   "name": "python",
   "nbconvert_exporter": "python",
   "pygments_lexer": "ipython3",
   "version": "3.6.5"
  },
  "vscode": {
   "interpreter": {
    "hash": "1406ff2857dea578695b6895b7155f42dce502950ebea7431e5b3c82b0ef935a"
   }
  }
 },
 "nbformat": 4,
 "nbformat_minor": 2
}
