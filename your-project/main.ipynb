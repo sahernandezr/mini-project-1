{
 "cells": [
  {
   "cell_type": "code",
   "execution_count": 1,
   "metadata": {},
   "outputs": [],
   "source": [
    "#import classes\n",
    "import numpy as np"
   ]
  },
  {
   "cell_type": "code",
   "execution_count": 51,
   "metadata": {},
   "outputs": [],
   "source": [
    "class Game():\n",
    "    def __init__(self):\n",
    "        self.someone_won = False\n",
    "        self.turns_played = 0\n",
    "        self.available_spaces = ['1','2','3','4','5','6','7','8','9']\n",
    "        self.possible_wins = [['1', '2', '3'],['1', '4', '7'],['1', '5', '9'],['2', '5', '8'],['3', '5', '7'],\n",
    "['3', '6', '9'],['4', '5', '6'],['7', '8', '9']]\n",
    "        \n",
    "        \n",
    "        \n",
    "class Board():\n",
    "    def __init__(self,rows,columns):\n",
    "        self.rows = rows\n",
    "        self.columns = columns\n",
    "        self.spaces = rows*columns\n",
    "        self.separator = '+'.join(('---',)*self.columns)\n",
    "        self.list_spaces = [' ' for i in range(self.spaces)]\n",
    "        self.printable_spaces = [\" \", \" \", \" \", \" \", \" \", \" \", \" \", \" \", \" \"]\n",
    "    \n",
    "    def update_board(self):\n",
    "        separator = '+'.join(('---',)*self.columns)\n",
    "        print(' '+' | '.join([self.printable_spaces[0], self.printable_spaces[1], self.printable_spaces[2]]))\n",
    "        print(separator)\n",
    "        print(' '+' | '.join([self.printable_spaces[3], self.printable_spaces[4], self.printable_spaces[5]]))\n",
    "        print(separator)\n",
    "        print(' '+' | '.join([self.printable_spaces[6], self.printable_spaces[7], self.printable_spaces[8]]))\n",
    "\n",
    "class Player():\n",
    "    def __init__(self):\n",
    "        self.name = \"\"\n",
    "        self.mark = \"\"\n",
    "        self.is_first = False\n",
    "        self.possible_wins = [['1', '2', '3'],['1', '4', '7'],['1', '5', '9'],['2', '5', '8'],['3', '5', '7'],\n",
    "['3', '6', '9'],['4', '5', '6'],['7', '8', '9']]\n",
    "        self.spaces_available = ['1','2','3','4','5','6','7','8','9']\n",
    "\n",
    "class User(Player):\n",
    "    def __init__(self):\n",
    "        self.name = \"\"\n",
    "        self.my_turn = True\n",
    "        self.spaces_available = ['1','2','3','4','5','6','7','8','9']\n",
    "        self.occupied_spaces = []\n",
    "        \n",
    "    def user_name(self): #This works\n",
    "        player_name = input('What is your name? ')\n",
    "        self.name = player_name\n",
    "        return self.name\n",
    "    \n",
    "    def user_choice(self):\n",
    "        if self.my_turn:\n",
    "            choice = input('Choose a space to put your mark: ')\n",
    "            if choice in self.spaces_available:\n",
    "                self.occupied_spaces.append(choice)\n",
    "                self.spaces_available.remove(choice)\n",
    "                board.printable_spaces[int(choice)-1]=\"O\"\n",
    "                self.my_turn = False #here I need to change turn flag from opponen to true\n",
    "                board.update_board() \n",
    "            elif int(choice)<=9:\n",
    "                print('That space is taken')\n",
    "                return user.user_choice()\n",
    "            elif int(choice)>9: #I need to handle error if input is not a number\n",
    "                print('You need to choose a number between 1 and 9')\n",
    "                return user.user_choice()\n",
    "        "
   ]
  },
  {
   "cell_type": "code",
   "execution_count": 52,
   "metadata": {},
   "outputs": [],
   "source": [
    "game = Game()\n",
    "board = Board(3,3)"
   ]
  },
  {
   "cell_type": "code",
   "execution_count": 53,
   "metadata": {},
   "outputs": [],
   "source": [
    "player = Player()"
   ]
  },
  {
   "cell_type": "code",
   "execution_count": 54,
   "metadata": {},
   "outputs": [],
   "source": [
    "user = User()"
   ]
  },
  {
   "cell_type": "code",
   "execution_count": 47,
   "metadata": {},
   "outputs": [
    {
     "name": "stdout",
     "output_type": "stream",
     "text": [
      "Choose a space to put your mark: 5\n",
      "   |   |  \n",
      "---+---+---\n",
      "   | O |  \n",
      "---+---+---\n",
      "   |   |  \n"
     ]
    }
   ],
   "source": [
    "user.user_choice()"
   ]
  },
  {
   "cell_type": "code",
   "execution_count": 55,
   "metadata": {},
   "outputs": [],
   "source": [
    "def start_game (game):\n",
    "    print(\"Welcome! Let's play Tic Tac Toe\")\n",
    "    print(\"********************************\")\n",
    "    print(\"Your goal: Form a straight line with three of your marks\")\n",
    "    print(\"Instructions: type a number from 1 to 9 to choose the space you want to occupy.\")\n",
    "    print(' '+' | '.join([\"1\", \"2\", \"3\"]))\n",
    "    print(board.separator)\n",
    "    print(' '+' | '.join([\"4\", \"5\", \"6\"]))\n",
    "    print(board.separator)\n",
    "    print(' '+' | '.join([\"7\", \"8\", \"9\"]))\n",
    "    user.user_name()\n",
    "    user.user_choice()"
   ]
  },
  {
   "cell_type": "code",
   "execution_count": 56,
   "metadata": {},
   "outputs": [
    {
     "name": "stdout",
     "output_type": "stream",
     "text": [
      "Welcome! Let's play Tic Tac Toe\n",
      "********************************\n",
      "Your goal: Form a straight line with three of your marks\n",
      "Instructions: type a number from 1 to 9 to choose the space you want to occupy.\n",
      " 1 | 2 | 3\n",
      "---+---+---\n",
      " 4 | 5 | 6\n",
      "---+---+---\n",
      " 7 | 8 | 9\n",
      "What is your name? Ana\n",
      "Choose a space to put your mark: 5\n",
      "   |   |  \n",
      "---+---+---\n",
      "   | O |  \n",
      "---+---+---\n",
      "   |   |  \n"
     ]
    }
   ],
   "source": [
    "start_game(game)"
   ]
  }
 ],
 "metadata": {
  "kernelspec": {
   "display_name": "Python 3",
   "language": "python",
   "name": "python3"
  },
  "language_info": {
   "codemirror_mode": {
    "name": "ipython",
    "version": 3
   },
   "file_extension": ".py",
   "mimetype": "text/x-python",
   "name": "python",
   "nbconvert_exporter": "python",
   "pygments_lexer": "ipython3",
   "version": "3.6.5"
  },
  "vscode": {
   "interpreter": {
    "hash": "1406ff2857dea578695b6895b7155f42dce502950ebea7431e5b3c82b0ef935a"
   }
  }
 },
 "nbformat": 4,
 "nbformat_minor": 2
}
